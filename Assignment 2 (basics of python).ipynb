{
  "nbformat": 4,
  "nbformat_minor": 0,
  "metadata": {
    "colab": {
      "provenance": [],
      "authorship_tag": "ABX9TyND4pQg5l2rD4TsG1huYKFM",
      "include_colab_link": true
    },
    "kernelspec": {
      "name": "python3",
      "display_name": "Python 3"
    },
    "language_info": {
      "name": "python"
    }
  },
  "cells": [
    {
      "cell_type": "markdown",
      "metadata": {
        "id": "view-in-github",
        "colab_type": "text"
      },
      "source": [
        "<a href=\"https://colab.research.google.com/github/gupta12344/Python-assignment-DS/blob/main/Assignment%202%20(basics%20of%20python).ipynb\" target=\"_parent\"><img src=\"https://colab.research.google.com/assets/colab-badge.svg\" alt=\"Open In Colab\"/></a>"
      ]
    },
    {
      "cell_type": "markdown",
      "source": [
        "Q-1"
      ],
      "metadata": {
        "id": "QrIuhU5ky0mD"
      }
    },
    {
      "cell_type": "code",
      "execution_count": 31,
      "metadata": {
        "colab": {
          "base_uri": "https://localhost:8080/"
        },
        "id": "U9tJWLTkvu_A",
        "outputId": "29d5c864-f167-4877-84c1-61ffdff974a0"
      },
      "outputs": [
        {
          "output_type": "stream",
          "name": "stdout",
          "text": [
            "enter the scores you gain: 76\n",
            "C\n"
          ]
        }
      ],
      "source": [
        "scores=int(input(\"enter the scores you gain: \"))\n",
        "if scores>90:\n",
        "  print(\"A\")\n",
        "elif 80<scores<=90:\n",
        "  print(\"B\")\n",
        "elif 60<=scores<=80:\n",
        "  print(\"C\")\n",
        "else:\n",
        "  print(\"D\")"
      ]
    },
    {
      "cell_type": "markdown",
      "source": [
        "Q-2"
      ],
      "metadata": {
        "id": "6bpUg9xD0Wox"
      }
    },
    {
      "cell_type": "code",
      "source": [
        "CP=int(input(\"Enter the cost price in Rs. :\" ))\n",
        "if CP<=50000:\n",
        "  print(\"5% Tax\")\n",
        "elif 50000<CP<=100000:\n",
        "  print(\"10% Tax\")\n",
        "else:\n",
        "  print(\"15% Tax\")"
      ],
      "metadata": {
        "colab": {
          "base_uri": "https://localhost:8080/"
        },
        "id": "GRaNlt7AyoDi",
        "outputId": "fbfa6ce2-9118-4af9-bc31-6e72b39c659b"
      },
      "execution_count": 32,
      "outputs": [
        {
          "output_type": "stream",
          "name": "stdout",
          "text": [
            "Enter the cost price in Rs. :76589\n",
            "10% Tax\n"
          ]
        }
      ]
    },
    {
      "cell_type": "markdown",
      "source": [
        "Q-3"
      ],
      "metadata": {
        "id": "cIRYWQoe1C7Q"
      }
    },
    {
      "cell_type": "code",
      "source": [
        "city=input(\"enter the city to get the monument of that city: \")\n",
        "if city==\"Delhi\":\n",
        "  print(\"Red Fort\")\n",
        "elif city==\"Agra\":\n",
        "  print(\"Taj Mahal\")\n",
        "elif city==\"jaipur\":\n",
        "  print(\"Jal Mahal\")\n"
      ],
      "metadata": {
        "colab": {
          "base_uri": "https://localhost:8080/"
        },
        "id": "LNsAmE5S0F1D",
        "outputId": "3e3089d7-f591-4f49-f009-0ffca63b8a7f"
      },
      "execution_count": 7,
      "outputs": [
        {
          "output_type": "stream",
          "name": "stdout",
          "text": [
            "enter the city to get the monument of that city: Agra\n",
            "Taj Mahal\n"
          ]
        }
      ]
    },
    {
      "cell_type": "markdown",
      "source": [
        "Q-4"
      ],
      "metadata": {
        "id": "vAl9dtE-2ntD"
      }
    },
    {
      "cell_type": "code",
      "source": [
        "n=int(input(\"enter the required number: \"))\n",
        "count=0\n",
        "for i in range(n):\n",
        "  if i%3==0 and i>=10:\n",
        "    count+=1\n",
        "print(count)"
      ],
      "metadata": {
        "colab": {
          "base_uri": "https://localhost:8080/"
        },
        "id": "Je1ZOk2L0_e5",
        "outputId": "e4c89ac5-eb5a-4556-f523-2982e5647540"
      },
      "execution_count": 17,
      "outputs": [
        {
          "output_type": "stream",
          "name": "stdout",
          "text": [
            "enter the required number: 20\n",
            "3\n"
          ]
        }
      ]
    },
    {
      "cell_type": "markdown",
      "source": [
        "Q-5 Explain Why & when to use while loop in python with example."
      ],
      "metadata": {
        "id": "o-Zz4f1w4_YW"
      }
    },
    {
      "cell_type": "markdown",
      "source": [
        "Why Use a While Loop in Python?\n",
        "\n",
        "A while loop is used when you need to repeatedly execute a block of code as long as a condition is true.\n",
        "\n",
        "It is particularly useful in cases where:\n",
        "\n",
        "* Indeterminate Iteration: You don't know in advance how many times the loop should run.\n",
        "\n",
        "* Dynamic Condition: The stopping condition depends on real-time changes in variables or user input.\n",
        "\n",
        "* Infinite Loops: When creating loops that run indefinitely until interrupted or a specific condition is met.\n",
        "\n",
        "When to Use a While Loop?\n",
        "\n",
        "* Iterating Based on a Condition: Use a while loop when the termination condition isn't tied to a fixed range of values.\n",
        "* Waiting for User Input or External Event: It’s useful for tasks like waiting for a user to input valid data.\n",
        "\n",
        "\n",
        "Examples:\n",
        "1. Print numbers from 1 to 5\n",
        "\n",
        "i = 1\n",
        "while i <= 5:\n",
        "    print(i)\n",
        "    i += 1  # Increment to avoid infinite loop\n",
        "\n",
        "\n",
        "2.Keep running until the user types'exit'\n",
        "\n",
        "\n",
        "    while True:\n",
        "    command = input(\"Enter a command (type 'exit' to quit): \")\n",
        "    if command.lower() == 'exit':\n",
        "        print(\"Exiting the program.\")\n",
        "        break\n",
        "    print(\"You entered:\", command)\n",
        "\n",
        "\n",
        "3. Simulate savings reaching a target\n",
        "\n",
        "  \n",
        "    savings = 0\n",
        "    target = 1000\n",
        "    while savings < target:\n",
        "    deposit = int(input(\"Enter deposit amount: \"))\n",
        "    savings += deposit\n",
        "    print(\"Current savings:\", savings)\n",
        "    print(\"Congratulations! You've reached your target.\")\n"
      ],
      "metadata": {
        "id": "3oEbPqqj3xOE"
      }
    },
    {
      "cell_type": "markdown",
      "source": [
        "Q-6 Use nested while loop to print 3 different patterns."
      ],
      "metadata": {
        "id": "fZ2WrnwsJcSx"
      }
    },
    {
      "cell_type": "code",
      "source": [
        "n=4\n",
        "row=1\n",
        "while row<=n:\n",
        "  col=1\n",
        "  while col<=n:\n",
        "    print(\"*\",end=\" \")\n",
        "    col+=1\n",
        "  print()\n",
        "  row+=1\n",
        ""
      ],
      "metadata": {
        "colab": {
          "base_uri": "https://localhost:8080/"
        },
        "id": "uI0-N05P1sNq",
        "outputId": "fa847449-9ace-49e0-9726-05cb4f1a6e34"
      },
      "execution_count": 20,
      "outputs": [
        {
          "output_type": "stream",
          "name": "stdout",
          "text": [
            "* * * * \n",
            "* * * * \n",
            "* * * * \n",
            "* * * * \n"
          ]
        }
      ]
    },
    {
      "cell_type": "code",
      "source": [
        "n=4\n",
        "row=1\n",
        "while row<=n:\n",
        "   col=1\n",
        "   while col<row+1:\n",
        "     print(\"*\",end=\" \")\n",
        "     col+=1\n",
        "   print()\n",
        "   row+=1"
      ],
      "metadata": {
        "colab": {
          "base_uri": "https://localhost:8080/"
        },
        "id": "7oqSWdcsGYVE",
        "outputId": "3e56879a-23f0-421d-c1fd-ff553a108502"
      },
      "execution_count": 22,
      "outputs": [
        {
          "output_type": "stream",
          "name": "stdout",
          "text": [
            "* \n",
            "* * \n",
            "* * * \n",
            "* * * * \n"
          ]
        }
      ]
    },
    {
      "cell_type": "code",
      "source": [
        "n=4\n",
        "row=4\n",
        "while row>0:\n",
        "  col=1\n",
        "  while col<=row:\n",
        "    print(\"*\",end=\" \")\n",
        "    col+=1\n",
        "  print()\n",
        "  row-=1"
      ],
      "metadata": {
        "colab": {
          "base_uri": "https://localhost:8080/"
        },
        "id": "p3lacAwwJYHc",
        "outputId": "33bf9307-4f62-400f-a3e0-bbb06d63f62f"
      },
      "execution_count": 27,
      "outputs": [
        {
          "output_type": "stream",
          "name": "stdout",
          "text": [
            "* * * * \n",
            "* * * \n",
            "* * \n",
            "* \n"
          ]
        }
      ]
    },
    {
      "cell_type": "markdown",
      "source": [
        "Q-7 reverse a while loop to display numbers from 10 to 1."
      ],
      "metadata": {
        "id": "Jf6wOz56J_fS"
      }
    },
    {
      "cell_type": "code",
      "source": [
        "n=10\n",
        "while n>0:\n",
        "  print(n,end=\" \")\n",
        "  print()\n",
        "  n-=1"
      ],
      "metadata": {
        "colab": {
          "base_uri": "https://localhost:8080/"
        },
        "id": "8SP-CtlqJ5J9",
        "outputId": "609e96b2-2a40-4624-86af-ee9fbd6cfa57"
      },
      "execution_count": 30,
      "outputs": [
        {
          "output_type": "stream",
          "name": "stdout",
          "text": [
            "10 \n",
            "9 \n",
            "8 \n",
            "7 \n",
            "6 \n",
            "5 \n",
            "4 \n",
            "3 \n",
            "2 \n",
            "1 \n"
          ]
        }
      ]
    },
    {
      "cell_type": "code",
      "source": [],
      "metadata": {
        "id": "FVkIi10bKOEu"
      },
      "execution_count": null,
      "outputs": []
    }
  ]
}