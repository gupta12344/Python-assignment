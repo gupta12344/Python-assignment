{
  "cells": [
    {
      "cell_type": "markdown",
      "metadata": {
        "id": "view-in-github",
        "colab_type": "text"
      },
      "source": [
        "<a href=\"https://colab.research.google.com/github/gupta12344/Python-assignment-DS/blob/main/Assignment_3(3_feb).ipynb\" target=\"_parent\"><img src=\"https://colab.research.google.com/assets/colab-badge.svg\" alt=\"Open In Colab\"/></a>"
      ]
    },
    {
      "cell_type": "markdown",
      "metadata": {
        "id": "bJ2UhdFn6Ebx"
      },
      "source": [
        "Q1. Which keyword is used to create a function?\n",
        "Create a function to return a list of odd numbers in the\n",
        "range of 1 to 25.\n",
        "\n",
        "Ans-  The keyword used to create a\n",
        "      function in Python is def.\n",
        "\n",
        "     Syntax:\n",
        "      \n",
        "      def function_name(parameters):\n",
        "      # Code block\n",
        "      return value  # Optional\n",
        "\n",
        "example:\n",
        "     # Define a function to calculate the square of a number\n",
        "    def square(number):\n",
        "    return number * number\n",
        "    \"\"\"call the function\"\"\"\n",
        "    result = square(5)\n",
        "    print(\"The square of 5 is:\", result)\n"
      ]
    },
    {
      "cell_type": "markdown",
      "source": [
        " Create a function to return a list of odd numbers in the range of 1 to 25."
      ],
      "metadata": {
        "id": "En7iyAXEPJZV"
      }
    },
    {
      "cell_type": "code",
      "source": [
        "l=list(range(1,26))\n",
        "list(filter(lambda x : x%2!=0 ,l))"
      ],
      "metadata": {
        "colab": {
          "base_uri": "https://localhost:8080/"
        },
        "id": "COKfXE7MPPjV",
        "outputId": "f04a5fe3-26de-446f-932b-f053f337e15d"
      },
      "execution_count": null,
      "outputs": [
        {
          "output_type": "execute_result",
          "data": {
            "text/plain": [
              "[1, 3, 5, 7, 9, 11, 13, 15, 17, 19, 21, 23, 25]"
            ]
          },
          "metadata": {},
          "execution_count": 1
        }
      ]
    },
    {
      "cell_type": "markdown",
      "source": [
        "Q2. Why *args and **kwargs is used in some functions? Create a function each for *args and **kwargs\n",
        "to demonstrate their use.\n",
        "\n",
        "Ans- Why Use *args and **kwargs?\n",
        "\n",
        "`*args (Non-Keyword Arguments):`\n",
        "\n",
        "* Used to pass a variable number of positional arguments to a function.\n",
        "\n",
        "* Allows flexibility when the exact number of arguments is unknown.\n",
        "\n",
        "`**kwargs (Keyword Arguments):`\n",
        "\n",
        "\n",
        "* Used to pass a variable number of keyword arguments (name-value pairs).\n",
        "\n",
        "* Helps make functions more versatile by accepting named arguments.\n",
        "\n",
        "\n",
        "example:\n",
        "\n",
        "      def sum_all(*args):\n",
        "\n",
        "    \"\"\"Function to sum all the numbers provided as arguments.\"\"\"\n",
        "    return sum(args)\n",
        "\n",
        "    \"\"\"Call the function with varying numbers of arguments\"\"\"\n",
        "\n",
        "    print(sum_all(1, 2, 3))         Output: 6\n",
        "    print(sum_all(5, 10, 15, 20))  Output: 50\n",
        "Explanation:\n",
        "The *args gathers all the positional arguments into a tuple.\n",
        "You can perform operations on args like iteration or aggregation (e.g., summing values).\n",
        "\n",
        "\n",
        "    def print_details(**kwargs):\n",
        "\n",
        "    \"\"\"Function to display details passed as keyword arguments.\"\"\"\n",
        "    for key, value in kwargs.items():\n",
        "        print(f\"{key}: {value}\")\n",
        "\n",
        "    \"\"\"Call the function with named arguments\"\"\"\n",
        "    print_details(name=\"Alice\", age=25, profession=\"Engineer\")\n",
        "\n",
        "    output:\n",
        "    name: Alice\n",
        "    age: 25\n",
        "    profession: Engineer\n"
      ],
      "metadata": {
        "id": "kxvfofAeNfEZ"
      }
    },
    {
      "cell_type": "markdown",
      "metadata": {
        "id": "epO30JTG7xcY"
      },
      "source": [
        "Q-3 What is an iterator in python? Name the method used to initialise the iterator object and the method\n",
        "used for iteration.\n",
        "\n",
        "Print the first five elements of the given list using lambda function.\n",
        "[2, 4, 6, 8, 10, 12, 14,16, 18, 20]."
      ]
    },
    {
      "cell_type": "markdown",
      "source": [
        "Ans-\n",
        "\n",
        "An iterator in Python is an object that implements the iterator protocol, which consists of the methods:\n",
        "\n",
        "__ iter__(): Initializes the iterator object.\n",
        "\n",
        "__ next__(): Returns the next value from the iterator. When there are no more items, it raises a StopIteration exception.\n",
        "\n",
        "Iterators are used to traverse through all the elements of a collection (like lists, tuples, etc.) one element at a time, without the need to know the underlying structure.\n",
        "\n",
        "\n",
        "\"\"\"Create a list (an iterable)\"\"\"\n",
        "\n",
        "my_list = [1, 2, 3, 4]\n",
        "\n",
        "\"\"Get an iterator object\"\"\n",
        "\n",
        "iterator = iter(my_list)  # Equivalent to my_list.__iter__()\n",
        "\n",
        "\"\"\"Use the iterator to traverse the elements\"\"\"\n",
        "print(next(iterator))  # Outputs: 1\n",
        "print(next(iterator))  # Outputs: 2\n",
        "print(next(iterator))  # Outputs: 3\n",
        "print(next(iterator))  # Outputs: 4\n",
        "\n",
        "comment - The next line will raise a StopIteration exception\n",
        "\n",
        "comment- print(next(iterator))\n"
      ],
      "metadata": {
        "id": "S3V8zBBFPlHN"
      }
    },
    {
      "cell_type": "code",
      "source": [
        "l1= [2, 4, 6, 8, 10, 12, 14,16, 18, 20]"
      ],
      "metadata": {
        "id": "QkrJZXCDRguR"
      },
      "execution_count": null,
      "outputs": []
    },
    {
      "cell_type": "code",
      "execution_count": null,
      "metadata": {
        "colab": {
          "base_uri": "https://localhost:8080/"
        },
        "id": "RgGkLTdn6Rn8",
        "outputId": "39b6ac4b-5a82-4409-e5a9-8ce080fe08f2"
      },
      "outputs": [
        {
          "output_type": "execute_result",
          "data": {
            "text/plain": [
              "[2, 4, 6, 8, 10]"
            ]
          },
          "metadata": {},
          "execution_count": 4
        }
      ],
      "source": [
        "list(filter(lambda x: x,l1[:5]))"
      ]
    },
    {
      "cell_type": "markdown",
      "source": [
        "Q4. What is a generator function in python? Why yield keyword is used? Give an example of a generator\n",
        "function.\n",
        "\n",
        "Ans- A generator function is a special type of function in Python that produces a sequence of values lazily, meaning it generates values one at a time as they are requested. Instead of using the return keyword to return a value, it uses the yield keyword.\n",
        "\n",
        "`Why Use yield?`\n",
        "\n",
        "Lazy Evaluation: The yield keyword pauses the function and saves its state, allowing it to resume from where it left off. This makes generators memory-efficient, especially for large datasets.\n",
        "\n",
        "Iterative Execution: Each call to the generator's __next__() method returns the next value, making it ideal for tasks like infinite sequences or streaming data.\n",
        "\n",
        "`Key Characteristics of a Generator Function`\n",
        "\n",
        "Defined like a normal function but uses yield instead of return.\n",
        "\n",
        "Automatically creates an iterator object.\n",
        "Can be iterated using a for loop or the next() function.\n",
        "\n",
        "Stops iteration when it encounters a StopIteration exception.\n",
        "\n",
        "\n"
      ],
      "metadata": {
        "id": "-liH2DHCSHsp"
      }
    },
    {
      "cell_type": "code",
      "source": [
        "Example of a Generator function\n",
        "\n",
        "def generate_numbers(n):\n",
        "    for i in range(1, n + 1):\n",
        "        yield i  # Produces the next value in the sequence\n",
        "\n",
        "# Using the generator\n",
        "gen = generate_numbers(5)\n",
        "print(next(gen))  # Output: 1\n",
        "print(next(gen))  # Output: 2\n",
        "\n",
        "# Iterate through the remaining values\n",
        "for number in gen:\n",
        "    print(number)\n"
      ],
      "metadata": {
        "id": "eZuTovKES4-4"
      },
      "execution_count": null,
      "outputs": []
    },
    {
      "cell_type": "markdown",
      "source": [
        "Q5. Create a generator function for prime numbers less than 1000. Use the next() method to print the\n",
        "first 20 prime numbers."
      ],
      "metadata": {
        "id": "YpMEYVC-sXYx"
      }
    },
    {
      "cell_type": "code",
      "source": [
        "def prime_generator(limit):\n",
        "    \"\"\"Generator to yield prime numbers less than the given limit.\"\"\"\n",
        "    for num in range(2, limit):\n",
        "        is_prime = True\n",
        "        for i in range(2, int(num**0.5) + 1):\n",
        "            if num % i == 0:\n",
        "                is_prime = False\n",
        "                break\n",
        "        if is_prime:\n",
        "            yield num\n",
        "\n",
        "# Create the generator for prime numbers less than 1000\n",
        "prime_gen = prime_generator(1000)\n",
        "\n",
        "# Use next() to print the first 20 prime numbers\n",
        "print(\"The first 20 prime numbers are:\")\n",
        "for _ in range(20):\n",
        "    print(next(prime_gen), end=\" \")\n"
      ],
      "metadata": {
        "id": "PQ7l54eMsWS-"
      },
      "execution_count": null,
      "outputs": []
    },
    {
      "cell_type": "markdown",
      "source": [
        "Q6. Write a python program to print the first 10 Fibonacci numbers using a while loop."
      ],
      "metadata": {
        "id": "0ZpoWBuJSotl"
      }
    },
    {
      "cell_type": "code",
      "execution_count": null,
      "metadata": {
        "id": "DMLvPF826sfU",
        "colab": {
          "base_uri": "https://localhost:8080/"
        },
        "outputId": "3607660d-e586-49a7-ac40-8f708f014905"
      },
      "outputs": [
        {
          "output_type": "stream",
          "name": "stdout",
          "text": [
            "0 1 1 2 3 5 8 13 21 34 "
          ]
        }
      ],
      "source": [
        "n=10\n",
        "a,b=0,1\n",
        "count=0\n",
        "while count<n:\n",
        "  print(a,end=\" \")\n",
        "  a,b=b,a+b\n",
        "  count+=1\n"
      ]
    },
    {
      "cell_type": "markdown",
      "source": [
        "Q7. Write a List Comprehension to iterate through the given string: ‘pwskills’.\n",
        "\n",
        "Expected output: ['p', 'w', 's', 'k', 'i', 'l', 'l', 's']"
      ],
      "metadata": {
        "id": "_xTdG3dCTzpm"
      }
    },
    {
      "cell_type": "code",
      "execution_count": null,
      "metadata": {
        "id": "o6oNInTk8icM"
      },
      "outputs": [],
      "source": [
        "s=\"pwskills\""
      ]
    },
    {
      "cell_type": "code",
      "source": [
        "[char for char in s]"
      ],
      "metadata": {
        "colab": {
          "base_uri": "https://localhost:8080/"
        },
        "id": "_yq3QADwT8sW",
        "outputId": "6bd78e39-df71-42f2-b8b9-311b78547a5e"
      },
      "execution_count": null,
      "outputs": [
        {
          "output_type": "execute_result",
          "data": {
            "text/plain": [
              "['p', 'w', 's', 'k', 'i', 'l', 'l', 's']"
            ]
          },
          "metadata": {},
          "execution_count": 12
        }
      ]
    },
    {
      "cell_type": "markdown",
      "source": [
        "Q8. Write a python program to check whether a given number is Palindrome or not using a while loop."
      ],
      "metadata": {
        "id": "od7NtxUGUcNQ"
      }
    },
    {
      "cell_type": "code",
      "source": [
        "n=int(input(\"enter the required number: \"))\n",
        "original=n\n",
        "reverse=0\n",
        "\n",
        "while n>0:\n",
        "  r= n % 10\n",
        "  reverse=reverse*10 + r\n",
        "  n=n//10\n",
        "if original==reverse:\n",
        "    print(\"palindrom\")\n",
        "else:\n",
        "    print(\"not palindrom\")"
      ],
      "metadata": {
        "colab": {
          "base_uri": "https://localhost:8080/"
        },
        "id": "yHFboxCaUKIo",
        "outputId": "927c0388-85e1-4978-dd6c-4db68c0d73c1"
      },
      "execution_count": null,
      "outputs": [
        {
          "output_type": "stream",
          "name": "stdout",
          "text": [
            "enter the required number: 132\n",
            "not palindrom\n"
          ]
        }
      ]
    },
    {
      "cell_type": "markdown",
      "source": [
        "Q9. Write a code to print odd numbers from 1 to 100 using list comprehension."
      ],
      "metadata": {
        "id": "0Puctc1FWKHw"
      }
    },
    {
      "cell_type": "code",
      "source": [
        "[i for i in range(1,101) if i%2!=0]"
      ],
      "metadata": {
        "colab": {
          "base_uri": "https://localhost:8080/"
        },
        "id": "b7EzS3SzVREO",
        "outputId": "a3310308-a5e7-4e97-ef85-adf7061a62e2"
      },
      "execution_count": null,
      "outputs": [
        {
          "output_type": "execute_result",
          "data": {
            "text/plain": [
              "[1,\n",
              " 3,\n",
              " 5,\n",
              " 7,\n",
              " 9,\n",
              " 11,\n",
              " 13,\n",
              " 15,\n",
              " 17,\n",
              " 19,\n",
              " 21,\n",
              " 23,\n",
              " 25,\n",
              " 27,\n",
              " 29,\n",
              " 31,\n",
              " 33,\n",
              " 35,\n",
              " 37,\n",
              " 39,\n",
              " 41,\n",
              " 43,\n",
              " 45,\n",
              " 47,\n",
              " 49,\n",
              " 51,\n",
              " 53,\n",
              " 55,\n",
              " 57,\n",
              " 59,\n",
              " 61,\n",
              " 63,\n",
              " 65,\n",
              " 67,\n",
              " 69,\n",
              " 71,\n",
              " 73,\n",
              " 75,\n",
              " 77,\n",
              " 79,\n",
              " 81,\n",
              " 83,\n",
              " 85,\n",
              " 87,\n",
              " 89,\n",
              " 91,\n",
              " 93,\n",
              " 95,\n",
              " 97,\n",
              " 99]"
            ]
          },
          "metadata": {},
          "execution_count": 20
        }
      ]
    },
    {
      "cell_type": "code",
      "source": [],
      "metadata": {
        "id": "vQMEvwEQWaKh"
      },
      "execution_count": null,
      "outputs": []
    }
  ],
  "metadata": {
    "colab": {
      "provenance": [],
      "authorship_tag": "ABX9TyM7rsbKmjYj/vAnRIbZCtzp",
      "include_colab_link": true
    },
    "kernelspec": {
      "display_name": "Python 3",
      "name": "python3"
    },
    "language_info": {
      "name": "python"
    }
  },
  "nbformat": 4,
  "nbformat_minor": 0
}