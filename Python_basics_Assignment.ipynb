{
  "nbformat": 4,
  "nbformat_minor": 0,
  "metadata": {
    "colab": {
      "provenance": [],
      "authorship_tag": "ABX9TyO/EJkUuxtEZoRlSTf3uLr8",
      "include_colab_link": true
    },
    "kernelspec": {
      "name": "python3",
      "display_name": "Python 3"
    },
    "language_info": {
      "name": "python"
    }
  },
  "cells": [
    {
      "cell_type": "markdown",
      "metadata": {
        "id": "view-in-github",
        "colab_type": "text"
      },
      "source": [
        "<a href=\"https://colab.research.google.com/github/gupta12344/Python-assignment/blob/main/Python_basics_Assignment.ipynb\" target=\"_parent\"><img src=\"https://colab.research.google.com/assets/colab-badge.svg\" alt=\"Open In Colab\"/></a>"
      ]
    },
    {
      "cell_type": "markdown",
      "source": [
        "# **Python Basics Questions**"
      ],
      "metadata": {
        "id": "UqQf3prL_1bh"
      }
    },
    {
      "cell_type": "markdown",
      "source": [
        "Q-1 What is Python, and why is it popular?\n",
        "\n",
        "Ans- Python is a high level,interpreted programming language.It was created by Guido van ROssum in 1991.\n",
        "It emphasizes code readability and simplicity, it easy to use for both beginners and experienced programmers.\n",
        "\n",
        "**why python is Popular:**\n",
        "1. Ease of learning(simple syntax)\n",
        "2. Versatile: It can be used for data\n",
        "   analysis, data science, web development,ai, automation and many more.\n",
        "3.Integration: Python can integrates well with other programming languages like C/C++,java.\n",
        "4. Scalability: It is scalable, used in small project as well as larger projects.\n",
        "5. It has Extensive Libraries.\n",
        "\n",
        "\n"
      ],
      "metadata": {
        "id": "xCboSCu9_m6x"
      }
    },
    {
      "cell_type": "markdown",
      "source": [
        "Q-2 What is an interpreter in Python?\n",
        "\n",
        "Ans:\n",
        "* An interpreter in Python is a program\n",
        "  that reads and executes the python code line by line.\n",
        "\n",
        "* It translates the python code\n",
        "  dynamically during runtime, and executing each statement as it goes.\n",
        "\n",
        "* Portable: Since Python interpreter is available on different plateforms(Windows,macOS,Linux),Python code can run across various operating systems without modification.\n",
        "\n",
        "* Error reporting: Interpreter provides feedback if there is an error in the code,helping the developer identify and fix issues.\n",
        "* Interpreter translates Python code into machine readable form during execution, allowing Python to be an easy to use, flexible and plateform independent language.\n"
      ],
      "metadata": {
        "id": "lwe5QK82DKsp"
      }
    },
    {
      "cell_type": "markdown",
      "source": [
        "Q-3 What are pre-defined keywords in Python?\n",
        "\n",
        "Ans:\n",
        "* Pre-defined keywords in Python are the reserved words that have specific meanings and purposes.\n",
        "* Case-Sensitive: Python keywords must be use in correct case( eg True, not true)\n",
        "* Each keyword has a predefined function and cannot be redefined.\n",
        "\n",
        "`LIST OF PYTHON KEYWORDS:`\n",
        "\n",
        "* *Control flow:* if,else,elif,for,while,\n",
        "break,pass,continue\n",
        "* *Data type*: True,False,None\n",
        "* *Function*: def, return, lambda,yield\n",
        "* *Class/object*: class, self,_init_,del\n",
        "* *Modules*: import,from,as\n",
        "* *Exceptions*: try,except,finally,raise,assert\n",
        "* *Logical*: and,or,not,is,in\n",
        "* *Other keywords*: with, global, nonlocal,async,await\n"
      ],
      "metadata": {
        "id": "UDQXsaQLGf8P"
      }
    },
    {
      "cell_type": "markdown",
      "source": [
        "Q-4 Can keywords be used as variable names?\n",
        "\n",
        "Ans: No, keywords cannot be used as variable names in Python.Keywords are reversed by the language because they have predefined meanings & purposes within the syntax of Python.\n",
        "Using them as variable names would create ambiguity & cause errors in your code.\n",
        "\n",
        "to check word is a keyword or not, we use keyword module. (iskeyword)\n",
        "\n"
      ],
      "metadata": {
        "id": "BMXPWY1wJ7yU"
      }
    },
    {
      "cell_type": "code",
      "source": [
        "import keyword\n",
        "\n",
        "print(keyword.iskeyword(\"if\")) # True\n",
        "print(keyword.iskeyword(\"hello\")) # False"
      ],
      "metadata": {
        "id": "5BsAF26VOdYz"
      },
      "execution_count": null,
      "outputs": []
    },
    {
      "cell_type": "markdown",
      "source": [
        "Q-5 What is mutability in Python?\n",
        "\n",
        "Ans: Mutability in Python refers to the ability of an object to be changed or mutable after it has been created.\n",
        "Depending on their nature,Python objects can be classified into two i.e, mutable or immutable:\n",
        "\n",
        "`Mutable objects`: These objects can be modified after their creation.\n",
        "changes to these object do not create new object,instead,the existing object is updated.\n",
        "eg: Lists, dicts, sets, byte arrays.\n",
        "\n",
        "`Immutable objects`:those cannot be modified after their creation. if a change is required, a new object is created with the updated value.\n",
        "eg: string, tuple,Numbers(int,float).\n",
        "\n",
        "\n",
        "\n",
        "\n",
        "\n"
      ],
      "metadata": {
        "id": "It7DCVXBOYa9"
      }
    },
    {
      "cell_type": "markdown",
      "source": [
        "Q-6 Why are lists mutable, but tuples are immutable?\n",
        "\n",
        "Ans: `Why Lists Are Mutable`  \n",
        "     \n",
        "     Dynamic nature: You can add,remove,or modify elements in a list,making it suitable for scenarios where the data needs to be updated dynamically.\n",
        "    \n",
        "     Flexibility: Lists are intended for general-purpose usage,allowing various operations like slicing,sorting, & appending.\n",
        "\n",
        "   `Why tuples Are Immutable`\n",
        "\n",
        "    Fixed nature\n",
        "    Hashability\n",
        "    Memory efficient\n"
      ],
      "metadata": {
        "id": "a24Mn9n0QzVQ"
      }
    },
    {
      "cell_type": "markdown",
      "source": [
        "Q-7 What is the difference between “==” and “is” operators in Python?\n",
        "\n",
        "Ans: The == and is operators in Python\n",
        "     are both used for comparison, but they serve very different purposes:                                   \n",
        "#        == Operator\n",
        "       Purpose: Tests for value equality.\n",
        "       Meaning: Checks whether two objects have the same value or data, even if they are stored at different memory locations.\n",
        "       Use Case: Commonly used to compare values of strings, numbers, lists, etc.\n",
        "\n",
        "a = [1, 2, 3]\n",
        "\n",
        "b = [1, 2, 3]\n",
        "\n",
        "print(a == b)  # Output: True (Values are the same)\n",
        "\n",
        "#    is Operator\n",
        "     Purpose: Tests for identity equality.\n",
        "     Meaning: Checks whether two objects refer to the same memory location (i.e., they are the exact same object).\n",
        "     Use Case: Often used to check if a variable is None or to compare object identities.\n",
        "\n",
        "a = [1, 2, 3]\n",
        "b = [1, 2, 3]\n",
        "c = a\n",
        "\n",
        "print(a is b)  # Output: False (Different objects with the same value)\n",
        "\n",
        "print(a is c)  # Output: True (Same object in memory)"
      ],
      "metadata": {
        "id": "RjDPKzLLUAIN"
      }
    },
    {
      "cell_type": "markdown",
      "source": [
        "Q-8 What are logical operators in Python?\n",
        "\n",
        "Ans: Logical operators are used to perform logical operations on conditional statements and expressions. They return either True or False based on the logic.\n",
        "\n",
        "**Types of Logical Operators**\n",
        "\n",
        "1. and(Logical AND):\n",
        "   return True if both operands are True.\n",
        "   eg:   \n",
        "         x = True\n",
        "         y = False\n",
        "         print(x and y)  # Output: False\n",
        "\n",
        "2. or (Logical OR):\n",
        "\n",
        "Returns True if at least one operand is True.\n",
        "eg:   \n",
        "   \n",
        "    x = True\n",
        "    y = False\n",
        "    print(x or y)  # Output: True\n",
        "\n",
        "ot (Logical NOT):\n",
        "\n",
        "Reverses the logical state of the operand.\n",
        "eg:\n",
        "\n",
        "    x = True\n",
        "    print(not x)  # Output: False\n"
      ],
      "metadata": {
        "id": "0BQFPeCvXCHD"
      }
    },
    {
      "cell_type": "markdown",
      "source": [
        "\n",
        "Q-9 What is type casting in Python?\n",
        "\n",
        "Ans: Type casting in Python refers to the process of converting one data type into another. It is useful when you need to perform operations that require specific data types.\n",
        "\n",
        "Types of Type Casting:\n",
        "\n",
        "**Implicit Type Casting**: Done automatically by Python.\n",
        "eg:\n",
        "\n",
        "    a = 5  # int\n",
        "    b = 2.0  # float\n",
        "    c = a + b  # Python automatically converts 'a' to float\n",
        "    print(c)  # Output: 7.0\n",
        "\n",
        "\n",
        "\n",
        "**Explicit Type Casting**: Done manually by the programmer using specific functions.\n",
        "eg:\n",
        "\n",
        "    x = \"10\"  # string\n",
        "    y = int(x)  # Convert string to integer\n",
        "    print(y + 5)  # Output: 15\n",
        "\n"
      ],
      "metadata": {
        "id": "nCVk1pj4XesB"
      }
    },
    {
      "cell_type": "markdown",
      "source": [
        "Q-10  What is the difference between implicit and explicit type casting?\n",
        "\n",
        "Ans: **Implicit Type Casting:**\n",
        "\n",
        "    * Performed By Python interpreter\n",
        "      automatically.\n",
        "    * Requires no intervention; done\n",
        "      automatically.\n",
        "    * Limited to safe operations (e.g.,  int to float).\n",
        "    * Eg: int to float during arithmetic operations.\n",
        "\n",
        "eg:\n",
        "\n",
        "    a = 5  # int\n",
        "    b = 2.5  # float\n",
        "    c = a + b  # Python automatically converts 'a' to float\n",
        "    print(c)  # Output: 7.5\n",
        "\n",
        "   Explicit Type Casting:\n",
        "\n",
        "   * Programmer manually using casting functions.\n",
        "   * Requires explicit use of functions like int(), float(), etc.\n",
        "   * Allows risky conversions (e.g., string to int).\n",
        "   * eg: Converting a string (\"123\") to an integer (123).\n",
        "\n",
        "eg:   \n",
        "\n",
        "    x = \"100\"  # string\n",
        "    y = int(x)  # Convert string to integer\n",
        "    print(y + 50)  # Output: 150"
      ],
      "metadata": {
        "id": "kKXL_Wl0Xitl"
      }
    },
    {
      "cell_type": "markdown",
      "source": [
        "Q-11 What is the purpose of conditional statements in Python?\n",
        "\n",
        "Ans:\n",
        "\n",
        "Conditional statements control the flow of a program based on certain conditions. They allow the program to make decisions and execute specific blocks of code depending on whether a condition evaluates to True or False.\n",
        "\n",
        "Common Conditional Statements in Python are:\n",
        "\n",
        "**if Statement**: Executes a block of code if the condition is True.\n",
        "\n",
        "**elif Statement**: Specifies additional conditions to check if the previous conditions were False.\n",
        "\n",
        "**else Statement**: Executes a block of code if all preceding conditions are False.\n",
        "\n",
        "    x = 10\n",
        "    if x > 15:\n",
        "    print(\"x is greater than 15\")\n",
        "    elif x == 10:\n",
        "    print(\"x is equal to 10\")\n",
        "    else:\n",
        "    print(\"x is less than 10\")\n",
        "    # Output: x is equal to 10\n",
        ""
      ],
      "metadata": {
        "id": "FW-mIFEmdKRY"
      }
    },
    {
      "cell_type": "markdown",
      "source": [
        "Q-12 How does the elif statement work?\n",
        "\n",
        "Ans:\n",
        "\n",
        "The elif (short for \"else if\") statement allows you to check multiple conditions in sequence after an initial if statement. It is used when there are multiple possible conditions and outcomes.\n",
        "\n",
        "Python evaluates each condition in order:\n",
        "\n",
        "If a condition is True, its block of code is executed, and the rest are ignored.\n",
        "\n",
        "If none of the conditions are True, the else block (if present) is executed.\n",
        "\n",
        "eg:\n",
        "\n",
        "    age = 20\n",
        "    if age < 13:\n",
        "    print(\"You are a child.\")\n",
        "    elif 13 <= age < 20:\n",
        "    print(\"You are a teenager.\")\n",
        "    elif 20 <= age < 65:\n",
        "    print(\"You are an adult.\")\n",
        "    else:\n",
        "    print(\"You are a senior.\")\n",
        "    # Output: You are an adult.\n"
      ],
      "metadata": {
        "id": "sgFw8WP7d1_d"
      }
    },
    {
      "cell_type": "markdown",
      "source": [
        "Q-13 0 What is the difference between for and while loops?\n",
        "\n",
        "Ans:  `for Loop`\n",
        "\n",
        "Iterates over a sequence (e.g., list, range).\n",
        "\n",
        "Best for a fixed number of iterations(number of iterations are already known).\n",
        "\n",
        "Managed by iterators (like range).\n",
        "\n",
        "eg:\n",
        "\n",
        "    #Print numbers from 1 to 5\n",
        "    for i in range(1, 6):\n",
        "    print(i)\n",
        "\n",
        "\n",
        "   `while Loop`\n",
        "\n",
        "Executes as long as a condition is True.  \n",
        "\n",
        "Best for loops with uncertain iterations.\n",
        "\n",
        "Controlled by a logical condition.\n",
        "\n",
        "eg:\n",
        "\n",
        "    #Print numbers from 1 to 5\n",
        "    count = 1\n",
        "    while count <= 5:\n",
        "    print(count)\n",
        "    count += 1\n",
        "\n"
      ],
      "metadata": {
        "id": "MpiInT7qeq3-"
      }
    },
    {
      "cell_type": "markdown",
      "source": [
        "Q-14  Describe a scenario where a while loop is more suitable than a for loop.\n",
        "\n",
        "Ans: A while loop is more suitable when the number of iterations is not known beforehand, and the loop's execution depends on a condition being met or changed during runtime.\n",
        "\n",
        "Scenario Example:\n",
        "\n",
        "Suppose you are writing a program that repeatedly asks the user to enter a correct password until they succeed. The number of attempts is not predetermined."
      ],
      "metadata": {
        "id": "BDpaJVwBgDaE"
      }
    },
    {
      "cell_type": "code",
      "source": [
        "password = \"python123\"\n",
        "attempt = \"\"\n",
        "\n",
        "while attempt != password:\n",
        "    attempt = input(\"Enter the password: \")\n",
        "print(\"Access granted!\")\n"
      ],
      "metadata": {
        "colab": {
          "base_uri": "https://localhost:8080/"
        },
        "id": "eUUITLFLgmVM",
        "outputId": "df7a967e-63f6-4d19-e93a-808faf9c5b89"
      },
      "execution_count": 1,
      "outputs": [
        {
          "output_type": "stream",
          "name": "stdout",
          "text": [
            "Enter the password: khushi\n",
            "Enter the password: python\n",
            "Enter the password: python123\n",
            "Access granted!\n"
          ]
        }
      ]
    },
    {
      "cell_type": "markdown",
      "source": [
        "# **Practical Questions**"
      ],
      "metadata": {
        "id": "veuEMae5hNRJ"
      }
    },
    {
      "cell_type": "markdown",
      "source": [
        "Q-1 Write a Python program to print \"Hello, World!\""
      ],
      "metadata": {
        "id": "S3Q3pZBVhgn0"
      }
    },
    {
      "cell_type": "code",
      "source": [
        "print(\"Hello, World!\")"
      ],
      "metadata": {
        "colab": {
          "base_uri": "https://localhost:8080/"
        },
        "id": "LiMwoH1Ogn_2",
        "outputId": "7ea86285-ed61-41e7-f5de-5a1a31376996"
      },
      "execution_count": 2,
      "outputs": [
        {
          "output_type": "stream",
          "name": "stdout",
          "text": [
            "Hello, World!\n"
          ]
        }
      ]
    },
    {
      "cell_type": "markdown",
      "source": [
        "Q-2 Write a Python program that displays your name and age."
      ],
      "metadata": {
        "id": "yq-GNDl3h70t"
      }
    },
    {
      "cell_type": "code",
      "source": [
        "name=input(\"enter your name \")\n",
        "age= int(input(\"enter your age \"))\n",
        "print(\"Name: \",name)\n",
        "print(\"Age:\",age)"
      ],
      "metadata": {
        "colab": {
          "base_uri": "https://localhost:8080/"
        },
        "id": "y328UTDAh1xV",
        "outputId": "d4f4f49b-7486-4330-b26b-8101096eac5a"
      },
      "execution_count": 5,
      "outputs": [
        {
          "output_type": "stream",
          "name": "stdout",
          "text": [
            "enter your name kg\n",
            "enter your age 22\n",
            "Name:  kg\n",
            "Age: 22\n"
          ]
        }
      ]
    },
    {
      "cell_type": "markdown",
      "source": [
        "Q-3 Write code to print all the pre-defined keywords in Python using the keyword library."
      ],
      "metadata": {
        "id": "aNTULK0Pix_O"
      }
    },
    {
      "cell_type": "code",
      "source": [
        "import keyword\n",
        "\n",
        "keywords = keyword.kwlist\n",
        "\n",
        "print(\"Python Keywords:\")\n",
        "for kw in keywords:\n",
        "    print(kw)\n"
      ],
      "metadata": {
        "colab": {
          "base_uri": "https://localhost:8080/"
        },
        "id": "rPSLBv6kiQni",
        "outputId": "a137a27a-b151-46ab-ced5-15bc5f1ce3ba"
      },
      "execution_count": 6,
      "outputs": [
        {
          "output_type": "stream",
          "name": "stdout",
          "text": [
            "Python Keywords:\n",
            "False\n",
            "None\n",
            "True\n",
            "and\n",
            "as\n",
            "assert\n",
            "async\n",
            "await\n",
            "break\n",
            "class\n",
            "continue\n",
            "def\n",
            "del\n",
            "elif\n",
            "else\n",
            "except\n",
            "finally\n",
            "for\n",
            "from\n",
            "global\n",
            "if\n",
            "import\n",
            "in\n",
            "is\n",
            "lambda\n",
            "nonlocal\n",
            "not\n",
            "or\n",
            "pass\n",
            "raise\n",
            "return\n",
            "try\n",
            "while\n",
            "with\n",
            "yield\n"
          ]
        }
      ]
    },
    {
      "cell_type": "markdown",
      "source": [
        "Q-4 Write a program that checks if a given word is a Python keyword.\n"
      ],
      "metadata": {
        "id": "D5Wruj8HjUrZ"
      }
    },
    {
      "cell_type": "code",
      "source": [
        "import keyword\n",
        "\n",
        "word = input(\"Enter a word to check if it's a Python keyword: \")\n",
        "\n",
        "if keyword.iskeyword(word):\n",
        "    print(f\"'{word}' is a Python keyword.\")\n",
        "else:\n",
        "    print(f\"'{word}' is NOT a Python keyword.\")\n"
      ],
      "metadata": {
        "colab": {
          "base_uri": "https://localhost:8080/"
        },
        "id": "KP8E7AkijKkw",
        "outputId": "24e5ee5d-ab3d-4d30-ac67-2b466d8318cb"
      },
      "execution_count": 7,
      "outputs": [
        {
          "output_type": "stream",
          "name": "stdout",
          "text": [
            "Enter a word to check if it's a Python keyword: if\n",
            "'if' is a Python keyword.\n"
          ]
        }
      ]
    },
    {
      "cell_type": "markdown",
      "source": [
        "Q-5 Create a list and tuple in Python, and demonstrate how attempting to change an element works differently\n",
        "for each."
      ],
      "metadata": {
        "id": "YKolc1cejxi5"
      }
    },
    {
      "cell_type": "code",
      "source": [
        "my_list = [1, 2, 3, 4]\n",
        "my_tuple = (1, 2, 3, 4)\n",
        "\n",
        "my_list[2] = 100  # List allows modification\n",
        "print(\"Updated List:\", my_list)\n",
        "\n",
        "try:\n",
        "    my_tuple[2] = 100  # Tuples do not allow modification\n",
        "except TypeError as e:\n",
        "    print(\"Error:\", e)\n"
      ],
      "metadata": {
        "colab": {
          "base_uri": "https://localhost:8080/"
        },
        "id": "5j0y9P5hjo4L",
        "outputId": "66ebd073-9cb3-4f9d-8cf4-c9211edd7bbf"
      },
      "execution_count": 9,
      "outputs": [
        {
          "output_type": "stream",
          "name": "stdout",
          "text": [
            "Updated List: [1, 2, 100, 4]\n",
            "Error: 'tuple' object does not support item assignment\n"
          ]
        }
      ]
    },
    {
      "cell_type": "markdown",
      "source": [
        "Q-6 Write a function to demonstrate the behavior of mutable and immutable arguments."
      ],
      "metadata": {
        "id": "45m8AWmckIrY"
      }
    },
    {
      "cell_type": "code",
      "source": [
        "def demo_mutability(mutable_arg, immutable_arg):\n",
        "\n",
        "    mutable_arg.append(4)\n",
        "    print(\"Inside function, mutable argument:\", mutable_arg)\n",
        "\n",
        "\n",
        "    immutable_arg = 100\n",
        "    print(\"Inside function, immutable argument:\", immutable_arg)\n",
        "\n",
        "\n",
        "mutable_list = [1, 2, 3]\n",
        "immutable_int = 10\n",
        "\n",
        "demo_mutability(mutable_list, immutable_int)\n",
        "\n",
        "\n",
        "print(\"Outside function, mutable list:\", mutable_list)\n",
        "print(\"Outside function, immutable integer:\", immutable_int)\n"
      ],
      "metadata": {
        "colab": {
          "base_uri": "https://localhost:8080/"
        },
        "id": "ay49nQfwkEgq",
        "outputId": "40ea1d93-358b-4b8e-cb28-eb53b9f84df2"
      },
      "execution_count": 10,
      "outputs": [
        {
          "output_type": "stream",
          "name": "stdout",
          "text": [
            "Inside function, mutable argument: [1, 2, 3, 4]\n",
            "Inside function, immutable argument: 100\n",
            "Outside function, mutable list: [1, 2, 3, 4]\n",
            "Outside function, immutable integer: 10\n"
          ]
        }
      ]
    },
    {
      "cell_type": "markdown",
      "source": [
        "Q-7  Write a function to demonstrate the behavior of mutable and immutable arguments."
      ],
      "metadata": {
        "id": "5mBzcIRRkrCq"
      }
    },
    {
      "cell_type": "code",
      "source": [
        "def demo_mutability(mutable_arg, immutable_arg):\n",
        "\n",
        "    mutable_arg.append(4)\n",
        "    print(\"Inside function, mutable argument:\", mutable_arg)\n",
        "\n",
        "\n",
        "    immutable_arg = 100\n",
        "    print(\"Inside function, immutable argument:\", immutable_arg)\n",
        "\n",
        "\n",
        "mutable_list = [1, 2, 3]\n",
        "immutable_int = 10\n",
        "\n",
        "demo_mutability(mutable_list, immutable_int)\n",
        "\n",
        "\n",
        "print(\"Outside function, mutable list:\", mutable_list)\n",
        "print(\"Outside function, immutable integer:\", immutable_int)"
      ],
      "metadata": {
        "id": "-l8gr_H2kpJu"
      },
      "execution_count": null,
      "outputs": []
    },
    {
      "cell_type": "markdown",
      "source": [
        "Q-8  Write a program to demonstrate the use of logical operators.\n",
        "\n"
      ],
      "metadata": {
        "id": "h6P0bmVSk6_k"
      }
    },
    {
      "cell_type": "code",
      "source": [
        "x = 5\n",
        "y = 10\n",
        "z = 15\n",
        "\n",
        "if x < y and y < z:\n",
        "    print(\"x is less than y AND y is less than z\")\n",
        "\n",
        "if x > y or y < z:\n",
        "    print(\"Either x is greater than y OR y is less than z\")\n",
        "\n",
        "if not(x == y):\n",
        "    print(\"x is not equal to y\")\n",
        "\n",
        "if x < y and not(z < y):\n",
        "    print(\"x is less than y AND z is NOT less than y\")\n"
      ],
      "metadata": {
        "colab": {
          "base_uri": "https://localhost:8080/"
        },
        "id": "eM3IgNrGlMBa",
        "outputId": "57a69e52-d200-4587-cdfa-18d6bd6bf5fc"
      },
      "execution_count": 11,
      "outputs": [
        {
          "output_type": "stream",
          "name": "stdout",
          "text": [
            "x is less than y AND y is less than z\n",
            "Either x is greater than y OR y is less than z\n",
            "x is not equal to y\n",
            "x is less than y AND z is NOT less than y\n"
          ]
        }
      ]
    },
    {
      "cell_type": "markdown",
      "source": [
        "Q-9  Write a Python program to convert user input from string to integer, float, and boolean types."
      ],
      "metadata": {
        "id": "aZt4AYSllwco"
      }
    },
    {
      "cell_type": "code",
      "source": [
        "user_input = input(\"Enter a number or text: \")\n",
        "\n",
        "# Convert to integer\n",
        "int_value = int(user_input) if user_input.isdigit() else None\n",
        "print(\"Integer:\", int_value)\n",
        "\n",
        "# Convert to float\n",
        "try:\n",
        "    float_value = float(user_input)\n",
        "    print(\"Float:\", float_value)\n",
        "except ValueError:\n",
        "    print(\"Invalid float value\")\n",
        "\n",
        "# Convert to boolean\n",
        "bool_value = bool(user_input)\n",
        "print(\"Boolean:\", bool_value)\n"
      ],
      "metadata": {
        "id": "3SQJhlA_lrrr"
      },
      "execution_count": null,
      "outputs": []
    },
    {
      "cell_type": "markdown",
      "source": [
        "Q-10 Write code to demonstrate type casting with list elements."
      ],
      "metadata": {
        "id": "5NelZ0CtmYf6"
      }
    },
    {
      "cell_type": "code",
      "source": [
        "mixed_list = [1, 3.14, \"25\", \"Hello\", 100]\n",
        "\n",
        "\n",
        "int_list = []\n",
        "for item in mixed_list:\n",
        "    if isinstance(item, str) and item.isdigit():\n",
        "        int_list.append(int(item))\n",
        "    else:\n",
        "        int_list.append(item)\n",
        "\n",
        "float_list = []\n",
        "for item in mixed_list:\n",
        "    if isinstance(item, int):\n",
        "        float_list.append(float(item))\n",
        "    else:\n",
        "        float_list.append(item)\n",
        "\n",
        "str_list = []\n",
        "for item in mixed_list:\n",
        "    str_list.append(str(item))\n",
        "\n",
        "\n",
        "print(\"Original List:\", mixed_list)\n",
        "print(\"List with elements as integers:\", int_list)\n",
        "print(\"List with elements as floats:\", float_list)\n",
        "print(\"List with elements as strings:\", str_list)\n"
      ],
      "metadata": {
        "colab": {
          "base_uri": "https://localhost:8080/"
        },
        "id": "zTYHVWMOomJi",
        "outputId": "ebb169fe-6361-4865-ef3c-c8a7103e095b"
      },
      "execution_count": 12,
      "outputs": [
        {
          "output_type": "stream",
          "name": "stdout",
          "text": [
            "Original List: [1, 3.14, '25', 'Hello', 100]\n",
            "List with elements as integers: [1, 3.14, 25, 'Hello', 100]\n",
            "List with elements as floats: [1.0, 3.14, '25', 'Hello', 100.0]\n",
            "List with elements as strings: ['1', '3.14', '25', 'Hello', '100']\n"
          ]
        }
      ]
    },
    {
      "cell_type": "markdown",
      "source": [
        "Q-11 Write a program that checks if a number is positive, negative, or zero0"
      ],
      "metadata": {
        "id": "O3NZ_h4apJ_3"
      }
    },
    {
      "cell_type": "code",
      "source": [
        "number = float(input(\"Enter a number: \"))\n",
        "\n",
        "if number > 0:\n",
        "    print(\"The number is positive.\")\n",
        "elif number < 0:\n",
        "    print(\"The number is negative.\")\n",
        "else:\n",
        "    print(\"The number is zero.\")\n"
      ],
      "metadata": {
        "colab": {
          "base_uri": "https://localhost:8080/"
        },
        "id": "Y55HsHdEpIhh",
        "outputId": "88aeb46b-8287-4a82-974a-cd8ac9a9007e"
      },
      "execution_count": 13,
      "outputs": [
        {
          "output_type": "stream",
          "name": "stdout",
          "text": [
            "Enter a number: 5\n",
            "The number is positive.\n"
          ]
        }
      ]
    },
    {
      "cell_type": "markdown",
      "source": [
        "Q-12  Write a for loop to print numbers from 1 to 100"
      ],
      "metadata": {
        "id": "rRfa6uJ-r4j2"
      }
    },
    {
      "cell_type": "code",
      "source": [
        "for i in range(1,11):\n",
        "  print(i)"
      ],
      "metadata": {
        "colab": {
          "base_uri": "https://localhost:8080/"
        },
        "id": "WljjX7ASpXAb",
        "outputId": "b46e91b9-5716-4ef5-945d-c0db1a76571d"
      },
      "execution_count": 14,
      "outputs": [
        {
          "output_type": "stream",
          "name": "stdout",
          "text": [
            "1\n",
            "2\n",
            "3\n",
            "4\n",
            "5\n",
            "6\n",
            "7\n",
            "8\n",
            "9\n",
            "10\n"
          ]
        }
      ]
    },
    {
      "cell_type": "markdown",
      "source": [
        "Q-13  Write a Python program to find the sum of all even numbers between 1 and 50."
      ],
      "metadata": {
        "id": "_b3KPzlwpmqe"
      }
    },
    {
      "cell_type": "code",
      "source": [
        "sum=0\n",
        "for i in range(1,51):\n",
        "  if i%2==0:\n",
        "    sum=sum+i\n",
        "print(sum)\n",
        ""
      ],
      "metadata": {
        "colab": {
          "base_uri": "https://localhost:8080/"
        },
        "id": "guDr6g2Sphs9",
        "outputId": "9e730a8e-9a87-42f9-adf7-382e8f54f510"
      },
      "execution_count": 17,
      "outputs": [
        {
          "output_type": "stream",
          "name": "stdout",
          "text": [
            "650\n"
          ]
        }
      ]
    },
    {
      "cell_type": "markdown",
      "source": [
        "Q-14 Write a program to reverse a string using a while loop.\n"
      ],
      "metadata": {
        "id": "2RW6A7eBqb65"
      }
    },
    {
      "cell_type": "code",
      "source": [
        "str=input(\"Enter a string: \")\n",
        "reversed_string = \"\"\n",
        "i= len(str) - 1\n",
        "while i >= 0:\n",
        "    reversed_string += str[i]\n",
        "    i-= 1\n",
        "\n",
        "print(\"Reversed string:\", reversed_string)\n"
      ],
      "metadata": {
        "colab": {
          "base_uri": "https://localhost:8080/"
        },
        "id": "NFPmtmHuqHwL",
        "outputId": "447717ef-b24d-4908-a967-9e9ee73f00da"
      },
      "execution_count": 18,
      "outputs": [
        {
          "output_type": "stream",
          "name": "stdout",
          "text": [
            "Enter a string: life\n",
            "Reversed string: efil\n"
          ]
        }
      ]
    },
    {
      "cell_type": "markdown",
      "source": [
        "Q-15   Write a Python program to calculate the factorial of a number provided by the user using a while loop"
      ],
      "metadata": {
        "id": "wkTLgaBBrXx7"
      }
    },
    {
      "cell_type": "code",
      "source": [
        "num = int(input(\"Enter a number to calculate its factorial: \"))\n",
        "\n",
        "factorial = 1\n",
        "\n",
        "if num < 0:\n",
        "    print(\"Factorial is not defined for negative numbers.\")\n",
        "else:\n",
        "    while num > 0:\n",
        "        factorial *= num\n",
        "        num -= 1\n",
        "\n",
        "    print(\"The factorial is:\", factorial)\n"
      ],
      "metadata": {
        "colab": {
          "base_uri": "https://localhost:8080/"
        },
        "id": "N2zpjAE9reaK",
        "outputId": "bea81c34-0880-4e7b-f243-ae0d2b9010be"
      },
      "execution_count": 19,
      "outputs": [
        {
          "output_type": "stream",
          "name": "stdout",
          "text": [
            "Enter a number to calculate its factorial: 5\n",
            "The factorial is: 120\n"
          ]
        }
      ]
    },
    {
      "cell_type": "code",
      "source": [],
      "metadata": {
        "id": "CQtNikGirsbm"
      },
      "execution_count": null,
      "outputs": []
    }
  ]
}