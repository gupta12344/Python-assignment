{
 "cells": [
  {
   "cell_type": "markdown",
   "metadata": {
    "id": "Q3LtSXnxCi_e"
   },
   "source": [
    "Q-1. Explain with an example each when to use a for loop and a while loop.\n",
    "\n",
    "Answer: **`for loop`**:\n",
    " use for loop when the number of iteration is known beforehand,means when you know the exact range or have an iterable to process.\n",
    " \n",
    " example: "
   ]
  },
  {
   "cell_type": "code",
   "execution_count": 40,
   "metadata": {
    "colab": {
     "base_uri": "https://localhost:8080/"
    },
    "id": "ogc1Ai2YFnEd",
    "outputId": "b08af360-e29f-4641-f919-8e123927047f"
   },
   "outputs": [
    {
     "name": "stdout",
     "output_type": "stream",
     "text": [
      "1\n",
      "8\n",
      "27\n",
      "64\n"
     ]
    }
   ],
   "source": [
    "for i in range(1,5):\n",
    "  print (i**3)"
   ]
  },
  {
   "cell_type": "markdown",
   "metadata": {
    "id": "2zp28bEgGGel"
   },
   "source": [
    "`while loop`: use a while loop when the number of iterations depend upon the condition that may not be predictable beforehand.\n",
    "\n",
    "example: password=\"\"\n",
    "         while password!=\"khushi gupta\"\n",
    "         password=input(\"enter your password:\")\n",
    "         print(\"access granted\")"
   ]
  },
  {
   "cell_type": "code",
   "execution_count": 46,
   "metadata": {
    "colab": {
     "base_uri": "https://localhost:8080/"
    },
    "id": "cTyxvbwlHaiw",
    "outputId": "22d9d405-8d48-404f-f4d6-f682009a17cb"
   },
   "outputs": [
    {
     "name": "stdout",
     "output_type": "stream",
     "text": [
      "enter your password:gupta\n",
      "enter your password:kgupta\n",
      "enter your password:khushigupta\n",
      "access granted\n"
     ]
    }
   ],
   "source": [
    "password=\"\"\n",
    "while password!=\"khushigupta\":\n",
    "  password=input(\"enter your password:\")\n",
    "print(\"access granted\")"
   ]
  },
  {
   "cell_type": "markdown",
   "metadata": {
    "id": "5eQT8JLywuDS"
   },
   "source": [
    "Q2. Write a python program to print the sum and product of the first 10 natural numbers using for\n",
    "and while loop."
   ]
  },
  {
   "cell_type": "code",
   "execution_count": 47,
   "metadata": {
    "colab": {
     "base_uri": "https://localhost:8080/"
    },
    "id": "e2vWmr6zw3MK",
    "outputId": "bfd15f4f-b6de-4115-d8c1-062b1d523a85"
   },
   "outputs": [
    {
     "name": "stdout",
     "output_type": "stream",
     "text": [
      "1\n",
      "3\n",
      "6\n",
      "10\n",
      "15\n",
      "21\n",
      "28\n",
      "36\n",
      "45\n",
      "55\n"
     ]
    }
   ],
   "source": [
    "result=0\n",
    "for i in range(1,11):\n",
    "  result=result+i\n",
    "  print(result)\n",
    "\n",
    "\n"
   ]
  },
  {
   "cell_type": "code",
   "execution_count": 17,
   "metadata": {
    "colab": {
     "base_uri": "https://localhost:8080/"
    },
    "id": "H9PCvCNGxgEa",
    "outputId": "a34a6f9f-3ac9-439a-b34e-2b89d3cbdb34"
   },
   "outputs": [
    {
     "data": {
      "text/plain": [
       "55"
      ]
     },
     "execution_count": 17,
     "metadata": {},
     "output_type": "execute_result"
    }
   ],
   "source": [
    "l=range(1,11)\n",
    "sum(l)"
   ]
  },
  {
   "cell_type": "code",
   "execution_count": 18,
   "metadata": {
    "colab": {
     "base_uri": "https://localhost:8080/"
    },
    "id": "JauODYmP3Mx9",
    "outputId": "511bf534-8d22-4834-98d5-bb98272bee36"
   },
   "outputs": [
    {
     "name": "stdout",
     "output_type": "stream",
     "text": [
      "1\n",
      "2\n",
      "6\n",
      "24\n",
      "120\n",
      "720\n",
      "5040\n",
      "40320\n",
      "362880\n",
      "3628800\n"
     ]
    }
   ],
   "source": [
    "pro=1\n",
    "for i in range(1,11):\n",
    "  pro=pro*i\n",
    "  print(pro)"
   ]
  },
  {
   "cell_type": "code",
   "execution_count": 33,
   "metadata": {
    "colab": {
     "base_uri": "https://localhost:8080/"
    },
    "id": "1LkA6HzE3_pK",
    "outputId": "d87d1774-2b4f-4332-fcb7-cc1e9856ec1d"
   },
   "outputs": [
    {
     "name": "stdout",
     "output_type": "stream",
     "text": [
      "3628800\n"
     ]
    }
   ],
   "source": [
    "import math\n",
    "l=range(1,11)\n",
    "result= math.prod(l)\n",
    "print(result)"
   ]
  },
  {
   "cell_type": "markdown",
   "metadata": {
    "id": "ndfmcdlq9ehn"
   },
   "source": [
    "Q3. Create a python program to compute the electricity bill for a household.\n",
    "\n",
    "The per-unit charges in rupees are as follows: For the first 100 units, the user will be charged Rs. 4.5 per\n",
    "unit, for the next 100 units, the user will be charged Rs. 6 per unit, and for the next 100 units, the user will\n",
    "be charged Rs. 10 per unit, After 300 units and above the user will be charged Rs. 20 per unit.\n",
    "You are required to take the units of electricity consumed in a month from the user as input.\n",
    "Your program must pass this test case: when the unit of electricity consumed by the user in a month is\n",
    "310, the total electricity bill should be 2250.\n"
   ]
  },
  {
   "cell_type": "code",
   "execution_count": 37,
   "metadata": {
    "colab": {
     "base_uri": "https://localhost:8080/"
    },
    "id": "InDAnWVr8Ip6",
    "outputId": "9ffd9969-d291-4c1d-8232-d8126a037ee4"
   },
   "outputs": [
    {
     "name": "stdout",
     "output_type": "stream",
     "text": [
      "enter the number of units consumed 15\n",
      "the total electricity bill is 67.5\n"
     ]
    }
   ],
   "source": [
    "def electricity_bill(units):\n",
    "  bill=0\n",
    "  if units<=100:\n",
    "   bill=units*4.5\n",
    "  elif units <=200:\n",
    "   bill=100*4.5 + (units-100)*6\n",
    "  elif units <=300:\n",
    "   bill=100*4.5 + 100*6 +(units-200)*10\n",
    "  else:\n",
    "   bill=100*4.5 + 100*6 + 100*10 + (units-300)*20\n",
    "  return bill\n",
    "\n",
    "units=int(input(\"enter the number of units consumed \"))\n",
    "bill=electricity_bill(units)\n",
    "print(f\"the total electricity bill is {bill}\")\n"
   ]
  },
  {
   "cell_type": "markdown",
   "metadata": {
    "id": "CsSXjNXZsBOA"
   },
   "source": [
    "Q4. Create a list of numbers from 1 to 100. Use for loop and while loop to calculate the cube of each\n",
    "number and if the cube of that number is divisible by 4 or 5 then append that number in a list and print\n",
    "that list."
   ]
  },
  {
   "cell_type": "markdown",
   "metadata": {
    "id": "dgEYddFnw-FQ"
   },
   "source": [
    "                                                                  ANSWER:"
   ]
  },
  {
   "cell_type": "markdown",
   "metadata": {
    "id": "qSG_1nvHwguP"
   },
   "source": [
    "By using for loop"
   ]
  },
  {
   "cell_type": "code",
   "execution_count": 13,
   "metadata": {
    "colab": {
     "base_uri": "https://localhost:8080/"
    },
    "id": "7BY8mfZqr_WQ",
    "outputId": "f731295b-ec07-4bc3-fb29-b681574a3eab"
   },
   "outputs": [
    {
     "name": "stdout",
     "output_type": "stream",
     "text": [
      "[2, 4, 5, 6, 8, 10, 12, 14, 15, 16, 18, 20, 22, 24, 25, 26, 28, 30, 32, 34, 35, 36, 38, 40, 42, 44, 45, 46, 48, 50, 52, 54, 55, 56, 58, 60, 62, 64, 65, 66, 68, 70, 72, 74, 75, 76, 78, 80, 82, 84, 85, 86, 88, 90, 92, 94, 95, 96, 98, 100]\n"
     ]
    }
   ],
   "source": [
    "l1=[]\n",
    "l=list(range(1,101))\n",
    "for i in l:\n",
    "    if(i**3%4==0 or i**3%5==0):\n",
    "       l1.append(i)\n",
    "print(l1)"
   ]
  },
  {
   "cell_type": "markdown",
   "metadata": {
    "id": "laPP0qA5wl-k"
   },
   "source": [
    "By using while loop"
   ]
  },
  {
   "cell_type": "code",
   "execution_count": 15,
   "metadata": {
    "colab": {
     "base_uri": "https://localhost:8080/"
    },
    "id": "XjYrxB4XsHzv",
    "outputId": "0daa5d2a-6c05-4bb8-b9ad-e5def9f8632c"
   },
   "outputs": [
    {
     "name": "stdout",
     "output_type": "stream",
     "text": [
      "[2, 4, 5, 6, 8, 10, 12, 14, 15, 16, 18, 20, 22, 24, 25, 26, 28, 30, 32, 34, 35, 36, 38, 40, 42, 44, 45, 46, 48, 50, 52, 54, 55, 56, 58, 60, 62, 64, 65, 66, 68, 70, 72, 74, 75, 76, 78, 80, 82, 84, 85, 86, 88, 90, 92, 94, 95, 96, 98, 100]\n"
     ]
    }
   ],
   "source": [
    "l1=[]\n",
    "i=1\n",
    "while i<=100:\n",
    "  if (i**3 % 4==0 or i**3 % 5==0):\n",
    "    l1.append(i)\n",
    "  i+=1\n",
    "print(l1)"
   ]
  },
  {
   "cell_type": "markdown",
   "metadata": {
    "id": "JZj0kMhv522p"
   },
   "source": [
    "Q-5 Write a program to filter count vowels in the below-given string.\n",
    "    string = \"I want to become a data scientist\""
   ]
  },
  {
   "cell_type": "code",
   "execution_count": 27,
   "metadata": {
    "colab": {
     "base_uri": "https://localhost:8080/"
    },
    "id": "f0yqm-2459dd",
    "outputId": "a01bb94a-5a78-4f64-a6bf-70c7ede05e00"
   },
   "outputs": [
    {
     "name": "stdout",
     "output_type": "stream",
     "text": [
      "12\n"
     ]
    }
   ],
   "source": [
    "str= \"I want to become a data scientist\"\n",
    "count=0\n",
    "vowels=set(\"aeiouAIEOU\")\n",
    "for i in str:\n",
    "  if i in vowels:\n",
    "    count+=1\n",
    "print(count)"
   ]
  },
  {
   "cell_type": "code",
   "execution_count": null,
   "metadata": {
    "id": "FEasV2LO7XeA"
   },
   "outputs": [],
   "source": []
  }
 ],
 "metadata": {
  "colab": {
   "provenance": []
  },
  "kernelspec": {
   "display_name": "Python 3",
   "name": "python3"
  },
  "language_info": {
   "name": "python"
  }
 },
 "nbformat": 4,
 "nbformat_minor": 0
}
